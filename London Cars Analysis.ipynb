{
 "cells": [
  {
   "cell_type": "code",
   "execution_count": 2,
   "metadata": {},
   "outputs": [],
   "source": [
    "%matplotlib inline"
   ]
  },
  {
   "cell_type": "code",
   "execution_count": 3,
   "metadata": {},
   "outputs": [],
   "source": [
    "import pandas as pd\n",
    "import numpy as np\n",
    "from plotly.offline import iplot, init_notebook_mode\n",
    "import plotly.express as px\n",
    "from sklearn.linear_model import LinearRegression\n",
    "from sklearn import preprocessing\n",
    "from sklearn.metrics import mean_squared_error, mean_absolute_error\n",
    "from sklearn.linear_model import LogisticRegression\n",
    "from sklearn.svm import SVC\n",
    "from sklearn.model_selection import GridSearchCV, cross_val_score\n",
    "from sklearn.metrics import accuracy_score, confusion_matrix, classification_report\n",
    "from sklearn.model_selection import cross_val_predict\n",
    "from sklearn.model_selection import train_test_split\n",
    "from sklearn.preprocessing import LabelEncoder\n",
    "from sklearn.metrics import accuracy_score, confusion_matrix, classification_report\n",
    "from sklearn.metrics import r2_score\n",
    "\n"
   ]
  },
  {
   "cell_type": "code",
   "execution_count": 4,
   "metadata": {},
   "outputs": [],
   "source": [
    "df = pd.read_csv('./LondonCars2014.csv')"
   ]
  },
  {
   "cell_type": "code",
   "execution_count": 5,
   "metadata": {},
   "outputs": [],
   "source": [
    "### 1. DATA OBSERVATION AND CLEANING"
   ]
  },
  {
   "cell_type": "code",
   "execution_count": 6,
   "metadata": {},
   "outputs": [
    {
     "data": {
      "text/html": [
       "<div>\n",
       "<style scoped>\n",
       "    .dataframe tbody tr th:only-of-type {\n",
       "        vertical-align: middle;\n",
       "    }\n",
       "\n",
       "    .dataframe tbody tr th {\n",
       "        vertical-align: top;\n",
       "    }\n",
       "\n",
       "    .dataframe thead th {\n",
       "        text-align: right;\n",
       "    }\n",
       "</style>\n",
       "<table border=\"1\" class=\"dataframe\">\n",
       "  <thead>\n",
       "    <tr style=\"text-align: right;\">\n",
       "      <th></th>\n",
       "      <th>Make</th>\n",
       "      <th>Model</th>\n",
       "      <th>Year</th>\n",
       "      <th>Mileage</th>\n",
       "      <th>Price</th>\n",
       "      <th>Body Style</th>\n",
       "      <th>Ex Color</th>\n",
       "      <th>In Color</th>\n",
       "      <th>Engine</th>\n",
       "      <th>Transmission</th>\n",
       "      <th>Doors</th>\n",
       "    </tr>\n",
       "  </thead>\n",
       "  <tbody>\n",
       "    <tr>\n",
       "      <th>0</th>\n",
       "      <td>Toyota</td>\n",
       "      <td>Avalon XLE</td>\n",
       "      <td>2014</td>\n",
       "      <td>4725</td>\n",
       "      <td>28995</td>\n",
       "      <td>Sedan</td>\n",
       "      <td>Gray</td>\n",
       "      <td>Black</td>\n",
       "      <td>6 Cyl</td>\n",
       "      <td>Automatic</td>\n",
       "      <td>4</td>\n",
       "    </tr>\n",
       "    <tr>\n",
       "      <th>1</th>\n",
       "      <td>Ford</td>\n",
       "      <td>Escape SE</td>\n",
       "      <td>2014</td>\n",
       "      <td>17201</td>\n",
       "      <td>24994</td>\n",
       "      <td>SUV</td>\n",
       "      <td>Silver</td>\n",
       "      <td>Black</td>\n",
       "      <td>4 Cyl</td>\n",
       "      <td>Automatic</td>\n",
       "      <td>4</td>\n",
       "    </tr>\n",
       "    <tr>\n",
       "      <th>2</th>\n",
       "      <td>Hyundai</td>\n",
       "      <td>Santa Fe Sport</td>\n",
       "      <td>2014</td>\n",
       "      <td>6279</td>\n",
       "      <td>25998</td>\n",
       "      <td>SUV</td>\n",
       "      <td>Silver</td>\n",
       "      <td>Gray</td>\n",
       "      <td>4 Cyl</td>\n",
       "      <td>Automatic</td>\n",
       "      <td>4</td>\n",
       "    </tr>\n",
       "    <tr>\n",
       "      <th>3</th>\n",
       "      <td>Ford</td>\n",
       "      <td>Escape SE</td>\n",
       "      <td>2014</td>\n",
       "      <td>16262</td>\n",
       "      <td>26684</td>\n",
       "      <td>SUV</td>\n",
       "      <td>Black</td>\n",
       "      <td>Black</td>\n",
       "      <td>4 Cyl</td>\n",
       "      <td>Automatic</td>\n",
       "      <td>4</td>\n",
       "    </tr>\n",
       "    <tr>\n",
       "      <th>4</th>\n",
       "      <td>Jeep</td>\n",
       "      <td>Grand Cherokee Limited Edition</td>\n",
       "      <td>2014</td>\n",
       "      <td>35572</td>\n",
       "      <td>33440</td>\n",
       "      <td>SUV</td>\n",
       "      <td>Black</td>\n",
       "      <td>Black</td>\n",
       "      <td>6 Cyl</td>\n",
       "      <td>Automatic</td>\n",
       "      <td>4</td>\n",
       "    </tr>\n",
       "    <tr>\n",
       "      <th>5</th>\n",
       "      <td>Honda</td>\n",
       "      <td>CR-V EXL</td>\n",
       "      <td>2014</td>\n",
       "      <td>10078</td>\n",
       "      <td>29995</td>\n",
       "      <td>SUV</td>\n",
       "      <td>Black</td>\n",
       "      <td>Black</td>\n",
       "      <td>4 Cyl</td>\n",
       "      <td>Automatic</td>\n",
       "      <td>4</td>\n",
       "    </tr>\n",
       "    <tr>\n",
       "      <th>6</th>\n",
       "      <td>Hyundai</td>\n",
       "      <td>Elantra GLS</td>\n",
       "      <td>2013</td>\n",
       "      <td>12649</td>\n",
       "      <td>16991</td>\n",
       "      <td>Sedan</td>\n",
       "      <td>Silver</td>\n",
       "      <td>Gray</td>\n",
       "      <td>4 Cyl</td>\n",
       "      <td>Automatic</td>\n",
       "      <td>4</td>\n",
       "    </tr>\n",
       "    <tr>\n",
       "      <th>7</th>\n",
       "      <td>GMC</td>\n",
       "      <td>Acadia SLT</td>\n",
       "      <td>2014</td>\n",
       "      <td>15814</td>\n",
       "      <td>34497</td>\n",
       "      <td>SUV</td>\n",
       "      <td>Silver</td>\n",
       "      <td>Black</td>\n",
       "      <td>6 Cyl</td>\n",
       "      <td>Automatic</td>\n",
       "      <td>4</td>\n",
       "    </tr>\n",
       "    <tr>\n",
       "      <th>8</th>\n",
       "      <td>GMC</td>\n",
       "      <td>Acadia SLT</td>\n",
       "      <td>2014</td>\n",
       "      <td>17974</td>\n",
       "      <td>34997</td>\n",
       "      <td>SUV</td>\n",
       "      <td>White</td>\n",
       "      <td>Black</td>\n",
       "      <td>6 Cyl</td>\n",
       "      <td>Automatic</td>\n",
       "      <td>4</td>\n",
       "    </tr>\n",
       "    <tr>\n",
       "      <th>9</th>\n",
       "      <td>Nissan</td>\n",
       "      <td>Armada SV</td>\n",
       "      <td>2014</td>\n",
       "      <td>20992</td>\n",
       "      <td>34999</td>\n",
       "      <td>SUV</td>\n",
       "      <td>Black</td>\n",
       "      <td>Gray</td>\n",
       "      <td>8 Cyl</td>\n",
       "      <td>Automatic</td>\n",
       "      <td>4</td>\n",
       "    </tr>\n",
       "  </tbody>\n",
       "</table>\n",
       "</div>"
      ],
      "text/plain": [
       "      Make                           Model  Year  Mileage  Price Body Style  \\\n",
       "0   Toyota                      Avalon XLE  2014     4725  28995      Sedan   \n",
       "1     Ford                       Escape SE  2014    17201  24994        SUV   \n",
       "2  Hyundai                  Santa Fe Sport  2014     6279  25998        SUV   \n",
       "3     Ford                       Escape SE  2014    16262  26684        SUV   \n",
       "4     Jeep  Grand Cherokee Limited Edition  2014    35572  33440        SUV   \n",
       "5    Honda                        CR-V EXL  2014    10078  29995        SUV   \n",
       "6  Hyundai                     Elantra GLS  2013    12649  16991      Sedan   \n",
       "7      GMC                      Acadia SLT  2014    15814  34497        SUV   \n",
       "8      GMC                      Acadia SLT  2014    17974  34997        SUV   \n",
       "9   Nissan                       Armada SV  2014    20992  34999        SUV   \n",
       "\n",
       "  Ex Color In Color Engine Transmission  Doors  \n",
       "0     Gray    Black  6 Cyl    Automatic      4  \n",
       "1   Silver    Black  4 Cyl    Automatic      4  \n",
       "2   Silver     Gray  4 Cyl    Automatic      4  \n",
       "3    Black    Black  4 Cyl    Automatic      4  \n",
       "4    Black    Black  6 Cyl    Automatic      4  \n",
       "5    Black    Black  4 Cyl    Automatic      4  \n",
       "6   Silver     Gray  4 Cyl    Automatic      4  \n",
       "7   Silver    Black  6 Cyl    Automatic      4  \n",
       "8    White    Black  6 Cyl    Automatic      4  \n",
       "9    Black     Gray  8 Cyl    Automatic      4  "
      ]
     },
     "execution_count": 6,
     "metadata": {},
     "output_type": "execute_result"
    }
   ],
   "source": [
    "df.head(10)"
   ]
  },
  {
   "cell_type": "code",
   "execution_count": 7,
   "metadata": {},
   "outputs": [
    {
     "name": "stdout",
     "output_type": "stream",
     "text": [
      "<class 'pandas.core.frame.DataFrame'>\n",
      "RangeIndex: 9080 entries, 0 to 9079\n",
      "Data columns (total 11 columns):\n",
      " #   Column        Non-Null Count  Dtype \n",
      "---  ------        --------------  ----- \n",
      " 0   Make          9080 non-null   object\n",
      " 1   Model         9080 non-null   object\n",
      " 2   Year          9080 non-null   int64 \n",
      " 3   Mileage       9080 non-null   int64 \n",
      " 4   Price         9080 non-null   int64 \n",
      " 5   Body Style    9080 non-null   object\n",
      " 6   Ex Color      9080 non-null   object\n",
      " 7   In Color      9080 non-null   object\n",
      " 8   Engine        9080 non-null   object\n",
      " 9   Transmission  9080 non-null   object\n",
      " 10  Doors         9080 non-null   int64 \n",
      "dtypes: int64(4), object(7)\n",
      "memory usage: 780.4+ KB\n"
     ]
    }
   ],
   "source": [
    "df.info()"
   ]
  },
  {
   "cell_type": "code",
   "execution_count": 8,
   "metadata": {},
   "outputs": [],
   "source": [
    "# From the above we can see that there are no null values\n",
    "# You should notice that the data-types are not exactly correct. For instance, the type for the Doors attribute (column) is infered as numeric (64-bit integer), however it should be a categorical column"
   ]
  },
  {
   "cell_type": "code",
   "execution_count": 9,
   "metadata": {},
   "outputs": [
    {
     "name": "stdout",
     "output_type": "stream",
     "text": [
      "<class 'pandas.core.frame.DataFrame'>\n",
      "RangeIndex: 9080 entries, 0 to 9079\n",
      "Data columns (total 11 columns):\n",
      " #   Column        Non-Null Count  Dtype   \n",
      "---  ------        --------------  -----   \n",
      " 0   Make          9080 non-null   category\n",
      " 1   Model         9080 non-null   category\n",
      " 2   Year          9080 non-null   category\n",
      " 3   Mileage       9080 non-null   int32   \n",
      " 4   Price         9080 non-null   int64   \n",
      " 5   Body Style    9080 non-null   category\n",
      " 6   Ex Color      9080 non-null   category\n",
      " 7   In Color      9080 non-null   category\n",
      " 8   Engine        9080 non-null   category\n",
      " 9   Transmission  9080 non-null   category\n",
      " 10  Doors         9080 non-null   category\n",
      "dtypes: category(9), int32(1), int64(1)\n",
      "memory usage: 248.0 KB\n"
     ]
    }
   ],
   "source": [
    "df = df.astype({'Make':'category', 'Model':'category', 'Year':'category', \n",
    "                'Mileage':'int32', 'Price':'int64', 'Body Style':'category', \n",
    "                'Ex Color':'category' , 'In Color':'category', \n",
    "                'Engine':'category', 'Transmission':'category', 'Doors':'category'})\n",
    "\n",
    "df.info()"
   ]
  },
  {
   "cell_type": "code",
   "execution_count": 10,
   "metadata": {},
   "outputs": [],
   "source": [
    "### 2. BASIC EXPLORATORY ANALYSIS"
   ]
  },
  {
   "cell_type": "code",
   "execution_count": 11,
   "metadata": {},
   "outputs": [
    {
     "name": "stdout",
     "output_type": "stream",
     "text": [
      "(9080, 11)\n"
     ]
    }
   ],
   "source": [
    "print(df.shape)"
   ]
  },
  {
   "cell_type": "code",
   "execution_count": 12,
   "metadata": {},
   "outputs": [
    {
     "name": "stdout",
     "output_type": "stream",
     "text": [
      "Column names:\n",
      "Index(['Make', 'Model', 'Year', 'Mileage', 'Price', 'Body Style', 'Ex Color',\n",
      "       'In Color', 'Engine', 'Transmission', 'Doors'],\n",
      "      dtype='object')\n"
     ]
    }
   ],
   "source": [
    "# from the above, we can interpret that there are 11 attributes (columns)\n",
    "print('Column names:')\n",
    "print(df.columns)"
   ]
  },
  {
   "cell_type": "code",
   "execution_count": 13,
   "metadata": {},
   "outputs": [
    {
     "name": "stdout",
     "output_type": "stream",
     "text": [
      "Make\n",
      "['Toyota', 'Ford', 'Hyundai', 'Jeep', 'Honda', ..., 'Maserati', 'Tesla', 'Plymouth', 'Oldsmobile', 'Fiat']\n",
      "Length: 49\n",
      "Categories (49, object): ['Toyota', 'Ford', 'Hyundai', 'Jeep', ..., 'Tesla', 'Plymouth', 'Oldsmobile', 'Fiat']\n",
      "Model\n",
      "['Avalon XLE', 'Escape SE', 'Santa Fe Sport', 'Grand Cherokee Limited Edition', 'CR-V EXL', ..., 'Armada Titanium Edition', 'Torrent', '900 S', 'Rio', 'S80 Platinum']\n",
      "Length: 1060\n",
      "Categories (1060, object): ['Avalon XLE', 'Escape SE', 'Santa Fe Sport', 'Grand Cherokee Limited Edition', ..., 'Torrent', '900 S', 'Rio', 'S80 Platinum']\n",
      "Year\n",
      "[2014, 2013, 2012, 2011, 2010, ..., 1995, 2015, 1996, 1994, 1990]\n",
      "Length: 24\n",
      "Categories (24, int64): [2014, 2013, 2012, 2011, ..., 2015, 1996, 1994, 1990]\n",
      "Mileage\n",
      "[ 4725 17201  6279 ...  6761 38215 44065]\n",
      "Price\n",
      "[28995 24994 25998 ... 48825 25677 14944]\n",
      "Body Style\n",
      "['Sedan', 'SUV', 'Hatchback', 'Wagon', 'Coupe', 'Minivan', 'Van', 'Pickup', 'Convertible', 'Chassis']\n",
      "Categories (10, object): ['Sedan', 'SUV', 'Hatchback', 'Wagon', ..., 'Van', 'Pickup', 'Convertible', 'Chassis']\n",
      "Ex Color\n",
      "['Gray', 'Silver', 'Black', 'White', 'Red', ..., 'Orange', 'Beige', 'Yellow', 'Bronze', 'Pink']\n",
      "Length: 15\n",
      "Categories (15, object): ['Gray', 'Silver', 'Black', 'White', ..., 'Beige', 'Yellow', 'Bronze', 'Pink']\n",
      "In Color\n",
      "['Black', 'Gray', 'Tan', 'Brown', 'White', 'Yellow', 'Red', 'Blue', 'Green']\n",
      "Categories (9, object): ['Black', 'Gray', 'Tan', 'Brown', ..., 'Yellow', 'Red', 'Blue', 'Green']\n",
      "Engine\n",
      "['6 Cyl', '4 Cyl', '8 Cyl', 'Hybrid', '5 Cyl', '10 Cyl', 'Rotary', '12 Cyl', '3 Cyl', 'Electric']\n",
      "Categories (10, object): ['6 Cyl', '4 Cyl', '8 Cyl', 'Hybrid', ..., 'Rotary', '12 Cyl', '3 Cyl', 'Electric']\n",
      "Transmission\n",
      "['Automatic', 'Manual']\n",
      "Categories (2, object): ['Automatic', 'Manual']\n",
      "Doors\n",
      "[4, 2, 3]\n",
      "Categories (3, int64): [4, 2, 3]\n"
     ]
    }
   ],
   "source": [
    "# checking unique values of each columns\n",
    "for col in df.columns:\n",
    "    print(col)\n",
    "    print(df[col].unique())\n",
    "\n"
   ]
  },
  {
   "cell_type": "code",
   "execution_count": 14,
   "metadata": {},
   "outputs": [
    {
     "name": "stdout",
     "output_type": "stream",
     "text": [
      "min = 1490\n",
      "max = 0    19995\n",
      "dtype: int64\n",
      "mean = 24410.92665198238\n",
      "median = 21500.0\n"
     ]
    }
   ],
   "source": [
    "# Maximum and minimum price\n",
    "print('min = {}'.format(df['Price'].min()))\n",
    "print('max = {}'.format(df['Price'].mode()))\n",
    "print('mean = {}'.format(df['Price'].mean()))\n",
    "print('median = {}'.format(df['Price'].median()))"
   ]
  },
  {
   "cell_type": "code",
   "execution_count": 15,
   "metadata": {},
   "outputs": [
    {
     "name": "stdout",
     "output_type": "stream",
     "text": [
      "max = 0    Altima S\n",
      "Name: Model, dtype: category\n",
      "Categories (1060, object): ['1 Series 128i', '1500 Laramie', '1500 SLT', '1500 ST', ..., 'tC Sport', 'xB', 'xD', 'xD Base']\n"
     ]
    }
   ],
   "source": [
    "# Most common car model\n",
    "print('max = {}'.format(df['Model'].mode()))"
   ]
  },
  {
   "cell_type": "code",
   "execution_count": 16,
   "metadata": {},
   "outputs": [
    {
     "name": "stdout",
     "output_type": "stream",
     "text": [
      "Average price of a Honda car = 18337.49\n",
      "Average price of a Mercedes-Benz car = 37620.97\n"
     ]
    }
   ],
   "source": [
    "# For Honda:\n",
    "print('Average price of a Honda car = {:.2f}'.format(df.loc[df['Make'] == 'Honda']['Price'].mean()))\n",
    "# Now you do for Mercedes-Benz:\n",
    "print('Average price of a Mercedes-Benz car = {:.2f}'.format(df.loc[df['Make'] == 'Mercedes-Benz']['Price'].mean()))"
   ]
  },
  {
   "cell_type": "code",
   "execution_count": 22,
   "metadata": {},
   "outputs": [
    {
     "data": {
      "text/html": [
       "<div>\n",
       "<style scoped>\n",
       "    .dataframe tbody tr th:only-of-type {\n",
       "        vertical-align: middle;\n",
       "    }\n",
       "\n",
       "    .dataframe tbody tr th {\n",
       "        vertical-align: top;\n",
       "    }\n",
       "\n",
       "    .dataframe thead th {\n",
       "        text-align: right;\n",
       "    }\n",
       "</style>\n",
       "<table border=\"1\" class=\"dataframe\">\n",
       "  <thead>\n",
       "    <tr style=\"text-align: right;\">\n",
       "      <th></th>\n",
       "      <th>Make</th>\n",
       "      <th>Price</th>\n",
       "    </tr>\n",
       "  </thead>\n",
       "  <tbody>\n",
       "    <tr>\n",
       "      <th>7441</th>\n",
       "      <td>Mitsubishi</td>\n",
       "      <td>1490</td>\n",
       "    </tr>\n",
       "    <tr>\n",
       "      <th>2868</th>\n",
       "      <td>Ford</td>\n",
       "      <td>1500</td>\n",
       "    </tr>\n",
       "    <tr>\n",
       "      <th>3239</th>\n",
       "      <td>Jaguar</td>\n",
       "      <td>1800</td>\n",
       "    </tr>\n",
       "    <tr>\n",
       "      <th>4990</th>\n",
       "      <td>Hyundai</td>\n",
       "      <td>1900</td>\n",
       "    </tr>\n",
       "    <tr>\n",
       "      <th>8032</th>\n",
       "      <td>Plymouth</td>\n",
       "      <td>1995</td>\n",
       "    </tr>\n",
       "    <tr>\n",
       "      <th>...</th>\n",
       "      <td>...</td>\n",
       "      <td>...</td>\n",
       "    </tr>\n",
       "    <tr>\n",
       "      <th>5263</th>\n",
       "      <td>Rolls-Royce</td>\n",
       "      <td>232900</td>\n",
       "    </tr>\n",
       "    <tr>\n",
       "      <th>4119</th>\n",
       "      <td>Rolls-Royce</td>\n",
       "      <td>239995</td>\n",
       "    </tr>\n",
       "    <tr>\n",
       "      <th>2767</th>\n",
       "      <td>Maybach</td>\n",
       "      <td>319995</td>\n",
       "    </tr>\n",
       "    <tr>\n",
       "      <th>1213</th>\n",
       "      <td>Lamborghini</td>\n",
       "      <td>359980</td>\n",
       "    </tr>\n",
       "    <tr>\n",
       "      <th>8669</th>\n",
       "      <td>Maybach</td>\n",
       "      <td>499898</td>\n",
       "    </tr>\n",
       "  </tbody>\n",
       "</table>\n",
       "<p>9080 rows × 2 columns</p>\n",
       "</div>"
      ],
      "text/plain": [
       "             Make   Price\n",
       "7441   Mitsubishi    1490\n",
       "2868         Ford    1500\n",
       "3239       Jaguar    1800\n",
       "4990      Hyundai    1900\n",
       "8032     Plymouth    1995\n",
       "...           ...     ...\n",
       "5263  Rolls-Royce  232900\n",
       "4119  Rolls-Royce  239995\n",
       "2767      Maybach  319995\n",
       "1213  Lamborghini  359980\n",
       "8669      Maybach  499898\n",
       "\n",
       "[9080 rows x 2 columns]"
      ]
     },
     "execution_count": 22,
     "metadata": {},
     "output_type": "execute_result"
    }
   ],
   "source": [
    "# Make sorted by Price\n",
    "df[['Make', 'Price']].sort_values('Price')"
   ]
  },
  {
   "cell_type": "code",
   "execution_count": 23,
   "metadata": {},
   "outputs": [],
   "source": [
    "### 3. DATA VISUALISATION"
   ]
  },
  {
   "cell_type": "code",
   "execution_count": 24,
   "metadata": {},
   "outputs": [
    {
     "data": {
      "text/html": [
       "        <script type=\"text/javascript\">\n",
       "        window.PlotlyConfig = {MathJaxConfig: 'local'};\n",
       "        if (window.MathJax && window.MathJax.Hub && window.MathJax.Hub.Config) {window.MathJax.Hub.Config({SVG: {font: \"STIX-Web\"}});}\n",
       "        if (typeof require !== 'undefined') {\n",
       "        require.undef(\"plotly\");\n",
       "        requirejs.config({\n",
       "            paths: {\n",
       "                'plotly': ['https://cdn.plot.ly/plotly-2.24.1.min']\n",
       "            }\n",
       "        });\n",
       "        require(['plotly'], function(Plotly) {\n",
       "            window._Plotly = Plotly;\n",
       "        });\n",
       "        }\n",
       "        </script>\n",
       "        "
      ]
     },
     "metadata": {},
     "output_type": "display_data"
    },
    {
     "data": {
      "image/png": "[encoded data removed]",
      "text/plain": [
       "<Figure size 360x360 with 6 Axes>"
      ]
     },
     "metadata": {
      "needs_background": "light"
     },
     "output_type": "display_data"
    }
   ],
   "source": [
    "from plotly.offline import iplot, init_notebook_mode\n",
    "import seaborn as sns\n",
    "import matplotlib.pyplot as plt\n",
    "\n",
    "\n",
    "init_notebook_mode(connected=True)\n",
    "\n",
    "sns.pairplot(df)\n",
    "plt.show()"
   ]
  },
  {
   "cell_type": "code",
   "execution_count": 25,
   "metadata": {},
   "outputs": [
    {
     "name": "stdout",
     "output_type": "stream",
     "text": [
      "\n",
      " Dataframe with label encoded columns: \n",
      "\n"
     ]
    },
    {
     "data": {
      "text/html": [
       "<table border=\"1\" class=\"dataframe\">\n",
       "  <thead>\n",
       "    <tr style=\"text-align: right;\">\n",
       "      <th></th>\n",
       "      <th>Make_num</th>\n",
       "      <th>Make</th>\n",
       "      <th>Model_num</th>\n",
       "      <th>Model</th>\n",
       "      <th>Year_num</th>\n",
       "      <th>Year</th>\n",
       "      <th>Mileage</th>\n",
       "      <th>Price</th>\n",
       "      <th>Body Style_num</th>\n",
       "      <th>Body Style</th>\n",
       "      <th>Ex Color_num</th>\n",
       "      <th>Ex Color</th>\n",
       "      <th>In Color_num</th>\n",
       "      <th>In Color</th>\n",
       "      <th>Engine_num</th>\n",
       "      <th>Engine</th>\n",
       "      <th>Transmission_num</th>\n",
       "      <th>Transmission</th>\n",
       "      <th>Doors_num</th>\n",
       "      <th>Doors</th>\n",
       "    </tr>\n",
       "  </thead>\n",
       "  <tbody>\n",
       "    <tr>\n",
       "      <th>0</th>\n",
       "      <td>46</td>\n",
       "      <td>Toyota</td>\n",
       "      <td>134</td>\n",
       "      <td>Avalon XLE</td>\n",
       "      <td>22</td>\n",
       "      <td>2014</td>\n",
       "      <td>4725</td>\n",
       "      <td>28995</td>\n",
       "      <td>7</td>\n",
       "      <td>Sedan</td>\n",
       "      <td>6</td>\n",
       "      <td>Gray</td>\n",
       "      <td>0</td>\n",
       "      <td>Black</td>\n",
       "      <td>5</td>\n",
       "      <td>6 Cyl</td>\n",
       "      <td>0</td>\n",
       "      <td>Automatic</td>\n",
       "      <td>2</td>\n",
       "      <td>4</td>\n",
       "    </tr>\n",
       "    <tr>\n",
       "      <th>1</th>\n",
       "      <td>12</td>\n",
       "      <td>Ford</td>\n",
       "      <td>353</td>\n",
       "      <td>Escape SE</td>\n",
       "      <td>22</td>\n",
       "      <td>2014</td>\n",
       "      <td>17201</td>\n",
       "      <td>24994</td>\n",
       "      <td>6</td>\n",
       "      <td>SUV</td>\n",
       "      <td>12</td>\n",
       "      <td>Silver</td>\n",
       "      <td>0</td>\n",
       "      <td>Black</td>\n",
       "      <td>3</td>\n",
       "      <td>4 Cyl</td>\n",
       "      <td>0</td>\n",
       "      <td>Automatic</td>\n",
       "      <td>2</td>\n",
       "      <td>4</td>\n",
       "    </tr>\n",
       "    <tr>\n",
       "      <th>2</th>\n",
       "      <td>16</td>\n",
       "      <td>Hyundai</td>\n",
       "      <td>840</td>\n",
       "      <td>Santa Fe Sport</td>\n",
       "      <td>22</td>\n",
       "      <td>2014</td>\n",
       "      <td>6279</td>\n",
       "      <td>25998</td>\n",
       "      <td>6</td>\n",
       "      <td>SUV</td>\n",
       "      <td>12</td>\n",
       "      <td>Silver</td>\n",
       "      <td>3</td>\n",
       "      <td>Gray</td>\n",
       "      <td>3</td>\n",
       "      <td>4 Cyl</td>\n",
       "      <td>0</td>\n",
       "      <td>Automatic</td>\n",
       "      <td>2</td>\n",
       "      <td>4</td>\n",
       "    </tr>\n",
       "    <tr>\n",
       "      <th>3</th>\n",
       "      <td>12</td>\n",
       "      <td>Ford</td>\n",
       "      <td>353</td>\n",
       "      <td>Escape SE</td>\n",
       "      <td>22</td>\n",
       "      <td>2014</td>\n",
       "      <td>16262</td>\n",
       "      <td>26684</td>\n",
       "      <td>6</td>\n",
       "      <td>SUV</td>\n",
       "      <td>1</td>\n",
       "      <td>Black</td>\n",
       "      <td>0</td>\n",
       "      <td>Black</td>\n",
       "      <td>3</td>\n",
       "      <td>4 Cyl</td>\n",
       "      <td>0</td>\n",
       "      <td>Automatic</td>\n",
       "      <td>2</td>\n",
       "      <td>4</td>\n",
       "    </tr>\n",
       "    <tr>\n",
       "      <th>4</th>\n",
       "      <td>19</td>\n",
       "      <td>Jeep</td>\n",
       "      <td>485</td>\n",
       "      <td>Grand Cherokee Limited Edition</td>\n",
       "      <td>22</td>\n",
       "      <td>2014</td>\n",
       "      <td>35572</td>\n",
       "      <td>33440</td>\n",
       "      <td>6</td>\n",
       "      <td>SUV</td>\n",
       "      <td>1</td>\n",
       "      <td>Black</td>\n",
       "      <td>0</td>\n",
       "      <td>Black</td>\n",
       "      <td>5</td>\n",
       "      <td>6 Cyl</td>\n",
       "      <td>0</td>\n",
       "      <td>Automatic</td>\n",
       "      <td>2</td>\n",
       "      <td>4</td>\n",
       "    </tr>\n",
       "    <tr>\n",
       "      <th>5</th>\n",
       "      <td>14</td>\n",
       "      <td>Honda</td>\n",
       "      <td>179</td>\n",
       "      <td>CR-V EXL</td>\n",
       "      <td>22</td>\n",
       "      <td>2014</td>\n",
       "      <td>10078</td>\n",
       "      <td>29995</td>\n",
       "      <td>6</td>\n",
       "      <td>SUV</td>\n",
       "      <td>1</td>\n",
       "      <td>Black</td>\n",
       "      <td>0</td>\n",
       "      <td>Black</td>\n",
       "      <td>3</td>\n",
       "      <td>4 Cyl</td>\n",
       "      <td>0</td>\n",
       "      <td>Automatic</td>\n",
       "      <td>2</td>\n",
       "      <td>4</td>\n",
       "    </tr>\n",
       "    <tr>\n",
       "      <th>6</th>\n",
       "      <td>16</td>\n",
       "      <td>Hyundai</td>\n",
       "      <td>328</td>\n",
       "      <td>Elantra GLS</td>\n",
       "      <td>21</td>\n",
       "      <td>2013</td>\n",
       "      <td>12649</td>\n",
       "      <td>16991</td>\n",
       "      <td>7</td>\n",
       "      <td>Sedan</td>\n",
       "      <td>12</td>\n",
       "      <td>Silver</td>\n",
       "      <td>3</td>\n",
       "      <td>Gray</td>\n",
       "      <td>3</td>\n",
       "      <td>4 Cyl</td>\n",
       "      <td>0</td>\n",
       "      <td>Automatic</td>\n",
       "      <td>2</td>\n",
       "      <td>4</td>\n",
       "    </tr>\n",
       "    <tr>\n",
       "      <th>7</th>\n",
       "      <td>13</td>\n",
       "      <td>GMC</td>\n",
       "      <td>97</td>\n",
       "      <td>Acadia SLT</td>\n",
       "      <td>22</td>\n",
       "      <td>2014</td>\n",
       "      <td>15814</td>\n",
       "      <td>34497</td>\n",
       "      <td>6</td>\n",
       "      <td>SUV</td>\n",
       "      <td>12</td>\n",
       "      <td>Silver</td>\n",
       "      <td>0</td>\n",
       "      <td>Black</td>\n",
       "      <td>5</td>\n",
       "      <td>6 Cyl</td>\n",
       "      <td>0</td>\n",
       "      <td>Automatic</td>\n",
       "      <td>2</td>\n",
       "      <td>4</td>\n",
       "    </tr>\n",
       "    <tr>\n",
       "      <th>8</th>\n",
       "      <td>13</td>\n",
       "      <td>GMC</td>\n",
       "      <td>97</td>\n",
       "      <td>Acadia SLT</td>\n",
       "      <td>22</td>\n",
       "      <td>2014</td>\n",
       "      <td>17974</td>\n",
       "      <td>34997</td>\n",
       "      <td>6</td>\n",
       "      <td>SUV</td>\n",
       "      <td>13</td>\n",
       "      <td>White</td>\n",
       "      <td>0</td>\n",
       "      <td>Black</td>\n",
       "      <td>5</td>\n",
       "      <td>6 Cyl</td>\n",
       "      <td>0</td>\n",
       "      <td>Automatic</td>\n",
       "      <td>2</td>\n",
       "      <td>4</td>\n",
       "    </tr>\n",
       "    <tr>\n",
       "      <th>9</th>\n",
       "      <td>32</td>\n",
       "      <td>Nissan</td>\n",
       "      <td>124</td>\n",
       "      <td>Armada SV</td>\n",
       "      <td>22</td>\n",
       "      <td>2014</td>\n",
       "      <td>20992</td>\n",
       "      <td>34999</td>\n",
       "      <td>6</td>\n",
       "      <td>SUV</td>\n",
       "      <td>1</td>\n",
       "      <td>Black</td>\n",
       "      <td>3</td>\n",
       "      <td>Gray</td>\n",
       "      <td>6</td>\n",
       "      <td>8 Cyl</td>\n",
       "      <td>0</td>\n",
       "      <td>Automatic</td>\n",
       "      <td>2</td>\n",
       "      <td>4</td>\n",
       "    </tr>\n",
       "    <tr>\n",
       "      <th>10</th>\n",
       "      <td>47</td>\n",
       "      <td>Volkswagen</td>\n",
       "      <td>164</td>\n",
       "      <td>CC Sport</td>\n",
       "      <td>22</td>\n",
       "      <td>2014</td>\n",
       "      <td>50</td>\n",
       "      <td>34230</td>\n",
       "      <td>7</td>\n",
       "      <td>Sedan</td>\n",
       "      <td>12</td>\n",
       "      <td>Silver</td>\n",
       "      <td>0</td>\n",
       "      <td>Black</td>\n",
       "      <td>3</td>\n",
       "      <td>4 Cyl</td>\n",
       "      <td>0</td>\n",
       "      <td>Automatic</td>\n",
       "      <td>2</td>\n",
       "      <td>4</td>\n",
       "    </tr>\n",
       "    <tr>\n",
       "      <th>11</th>\n",
       "      <td>13</td>\n",
       "      <td>GMC</td>\n",
       "      <td>1046</td>\n",
       "      <td>Yukon SLT</td>\n",
       "      <td>22</td>\n",
       "      <td>2014</td>\n",
       "      <td>19958</td>\n",
       "      <td>37988</td>\n",
       "      <td>6</td>\n",
       "      <td>SUV</td>\n",
       "      <td>1</td>\n",
       "      <td>Black</td>\n",
       "      <td>0</td>\n",
       "      <td>Black</td>\n",
       "      <td>6</td>\n",
       "      <td>8 Cyl</td>\n",
       "      <td>0</td>\n",
       "      <td>Automatic</td>\n",
       "      <td>2</td>\n",
       "      <td>4</td>\n",
       "    </tr>\n",
       "    <tr>\n",
       "      <th>12</th>\n",
       "      <td>3</td>\n",
       "      <td>BMW</td>\n",
       "      <td>16</td>\n",
       "      <td>3 Series 328i</td>\n",
       "      <td>22</td>\n",
       "      <td>2014</td>\n",
       "      <td>5583</td>\n",
       "      <td>38900</td>\n",
       "      <td>7</td>\n",
       "      <td>Sedan</td>\n",
       "      <td>6</td>\n",
       "      <td>Gray</td>\n",
       "      <td>0</td>\n",
       "      <td>Black</td>\n",
       "      <td>3</td>\n",
       "      <td>4 Cyl</td>\n",
       "      <td>0</td>\n",
       "      <td>Automatic</td>\n",
       "      <td>2</td>\n",
       "      <td>4</td>\n",
       "    </tr>\n",
       "    <tr>\n",
       "      <th>13</th>\n",
       "      <td>19</td>\n",
       "      <td>Jeep</td>\n",
       "      <td>989</td>\n",
       "      <td>Wrangler Unlimited</td>\n",
       "      <td>22</td>\n",
       "      <td>2014</td>\n",
       "      <td>4</td>\n",
       "      <td>36865</td>\n",
       "      <td>6</td>\n",
       "      <td>SUV</td>\n",
       "      <td>11</td>\n",
       "      <td>Red</td>\n",
       "      <td>0</td>\n",
       "      <td>Black</td>\n",
       "      <td>5</td>\n",
       "      <td>6 Cyl</td>\n",
       "      <td>0</td>\n",
       "      <td>Automatic</td>\n",
       "      <td>2</td>\n",
       "      <td>4</td>\n",
       "    </tr>\n",
       "    <tr>\n",
       "      <th>14</th>\n",
       "      <td>7</td>\n",
       "      <td>Chevrolet</td>\n",
       "      <td>896</td>\n",
       "      <td>Suburban 1500 LT</td>\n",
       "      <td>22</td>\n",
       "      <td>2014</td>\n",
       "      <td>25684</td>\n",
       "      <td>39990</td>\n",
       "      <td>6</td>\n",
       "      <td>SUV</td>\n",
       "      <td>1</td>\n",
       "      <td>Black</td>\n",
       "      <td>0</td>\n",
       "      <td>Black</td>\n",
       "      <td>6</td>\n",
       "      <td>8 Cyl</td>\n",
       "      <td>0</td>\n",
       "      <td>Automatic</td>\n",
       "      <td>2</td>\n",
       "      <td>4</td>\n",
       "    </tr>\n",
       "  </tbody>\n",
       "</table>"
      ],
      "text/plain": [
       "<IPython.core.display.HTML object>"
      ]
     },
     "metadata": {},
     "output_type": "display_data"
    }
   ],
   "source": [
    "### 3.1. LABEL ENCODING CATEGORICAL COLUMNS\n",
    "\n",
    "from sklearn.preprocessing import LabelEncoder\n",
    "from IPython.display import display, HTML\n",
    "\n",
    "df_copy = df.copy()\n",
    "for col in df_copy.columns:\n",
    "    if (df_copy[col].dtype != 'int32') & (df_copy[col].dtype != 'int64'):\n",
    "        col_indx_arry = df_copy.columns.get_indexer([col])\n",
    "        col_indx = int(col_indx_arry[0])\n",
    "        col_name = col + '_num'\n",
    "        labelencoder = LabelEncoder()\n",
    "        values = labelencoder.fit_transform(df_copy[col])\n",
    "        df_copy.insert(loc=col_indx, column=col_name, value=values)\n",
    "        \n",
    "print('\\n Dataframe with label encoded columns: \\n')\n",
    "display(HTML(df_copy.head(15).to_html()))     "
   ]
  },
  {
   "cell_type": "code",
   "execution_count": 26,
   "metadata": {},
   "outputs": [],
   "source": [
    "# df_copy.info()"
   ]
  },
  {
   "cell_type": "code",
   "execution_count": 27,
   "metadata": {},
   "outputs": [
    {
     "name": "stdout",
     "output_type": "stream",
     "text": [
      "Dataframe with numerical columns only (including label encoded columns)\n",
      "\n"
     ]
    },
    {
     "data": {
      "text/html": [
       "<table border=\"1\" class=\"dataframe\">\n",
       "  <thead>\n",
       "    <tr style=\"text-align: right;\">\n",
       "      <th></th>\n",
       "      <th>Make_num</th>\n",
       "      <th>Model_num</th>\n",
       "      <th>Year_num</th>\n",
       "      <th>Mileage</th>\n",
       "      <th>Price</th>\n",
       "      <th>Body Style_num</th>\n",
       "      <th>Ex Color_num</th>\n",
       "      <th>In Color_num</th>\n",
       "      <th>Engine_num</th>\n",
       "      <th>Transmission_num</th>\n",
       "      <th>Doors_num</th>\n",
       "    </tr>\n",
       "  </thead>\n",
       "  <tbody>\n",
       "    <tr>\n",
       "      <th>0</th>\n",
       "      <td>46</td>\n",
       "      <td>134</td>\n",
       "      <td>22</td>\n",
       "      <td>4725</td>\n",
       "      <td>28995</td>\n",
       "      <td>7</td>\n",
       "      <td>6</td>\n",
       "      <td>0</td>\n",
       "      <td>5</td>\n",
       "      <td>0</td>\n",
       "      <td>2</td>\n",
       "    </tr>\n",
       "    <tr>\n",
       "      <th>1</th>\n",
       "      <td>12</td>\n",
       "      <td>353</td>\n",
       "      <td>22</td>\n",
       "      <td>17201</td>\n",
       "      <td>24994</td>\n",
       "      <td>6</td>\n",
       "      <td>12</td>\n",
       "      <td>0</td>\n",
       "      <td>3</td>\n",
       "      <td>0</td>\n",
       "      <td>2</td>\n",
       "    </tr>\n",
       "    <tr>\n",
       "      <th>2</th>\n",
       "      <td>16</td>\n",
       "      <td>840</td>\n",
       "      <td>22</td>\n",
       "      <td>6279</td>\n",
       "      <td>25998</td>\n",
       "      <td>6</td>\n",
       "      <td>12</td>\n",
       "      <td>3</td>\n",
       "      <td>3</td>\n",
       "      <td>0</td>\n",
       "      <td>2</td>\n",
       "    </tr>\n",
       "    <tr>\n",
       "      <th>3</th>\n",
       "      <td>12</td>\n",
       "      <td>353</td>\n",
       "      <td>22</td>\n",
       "      <td>16262</td>\n",
       "      <td>26684</td>\n",
       "      <td>6</td>\n",
       "      <td>1</td>\n",
       "      <td>0</td>\n",
       "      <td>3</td>\n",
       "      <td>0</td>\n",
       "      <td>2</td>\n",
       "    </tr>\n",
       "    <tr>\n",
       "      <th>4</th>\n",
       "      <td>19</td>\n",
       "      <td>485</td>\n",
       "      <td>22</td>\n",
       "      <td>35572</td>\n",
       "      <td>33440</td>\n",
       "      <td>6</td>\n",
       "      <td>1</td>\n",
       "      <td>0</td>\n",
       "      <td>5</td>\n",
       "      <td>0</td>\n",
       "      <td>2</td>\n",
       "    </tr>\n",
       "    <tr>\n",
       "      <th>5</th>\n",
       "      <td>14</td>\n",
       "      <td>179</td>\n",
       "      <td>22</td>\n",
       "      <td>10078</td>\n",
       "      <td>29995</td>\n",
       "      <td>6</td>\n",
       "      <td>1</td>\n",
       "      <td>0</td>\n",
       "      <td>3</td>\n",
       "      <td>0</td>\n",
       "      <td>2</td>\n",
       "    </tr>\n",
       "    <tr>\n",
       "      <th>6</th>\n",
       "      <td>16</td>\n",
       "      <td>328</td>\n",
       "      <td>21</td>\n",
       "      <td>12649</td>\n",
       "      <td>16991</td>\n",
       "      <td>7</td>\n",
       "      <td>12</td>\n",
       "      <td>3</td>\n",
       "      <td>3</td>\n",
       "      <td>0</td>\n",
       "      <td>2</td>\n",
       "    </tr>\n",
       "    <tr>\n",
       "      <th>7</th>\n",
       "      <td>13</td>\n",
       "      <td>97</td>\n",
       "      <td>22</td>\n",
       "      <td>15814</td>\n",
       "      <td>34497</td>\n",
       "      <td>6</td>\n",
       "      <td>12</td>\n",
       "      <td>0</td>\n",
       "      <td>5</td>\n",
       "      <td>0</td>\n",
       "      <td>2</td>\n",
       "    </tr>\n",
       "    <tr>\n",
       "      <th>8</th>\n",
       "      <td>13</td>\n",
       "      <td>97</td>\n",
       "      <td>22</td>\n",
       "      <td>17974</td>\n",
       "      <td>34997</td>\n",
       "      <td>6</td>\n",
       "      <td>13</td>\n",
       "      <td>0</td>\n",
       "      <td>5</td>\n",
       "      <td>0</td>\n",
       "      <td>2</td>\n",
       "    </tr>\n",
       "    <tr>\n",
       "      <th>9</th>\n",
       "      <td>32</td>\n",
       "      <td>124</td>\n",
       "      <td>22</td>\n",
       "      <td>20992</td>\n",
       "      <td>34999</td>\n",
       "      <td>6</td>\n",
       "      <td>1</td>\n",
       "      <td>3</td>\n",
       "      <td>6</td>\n",
       "      <td>0</td>\n",
       "      <td>2</td>\n",
       "    </tr>\n",
       "  </tbody>\n",
       "</table>"
      ],
      "text/plain": [
       "<IPython.core.display.HTML object>"
      ]
     },
     "metadata": {},
     "output_type": "display_data"
    }
   ],
   "source": [
    "# Keeping numberical columns only\n",
    "df_num = df_copy.select_dtypes(exclude=[\"category\"])\n",
    "print('Dataframe with numerical columns only (including label encoded columns)\\n')\n",
    "display(HTML(df_num.head(10).to_html()))"
   ]
  },
  {
   "cell_type": "code",
   "execution_count": 28,
   "metadata": {},
   "outputs": [
    {
     "data": {
      "image/png": "[encoded data removed]",
      "text/plain": [
       "<Figure size 432x288 with 2 Axes>"
      ]
     },
     "metadata": {
      "needs_background": "light"
     },
     "output_type": "display_data"
    }
   ],
   "source": [
    "# coorelation matrix\n",
    "import seaborn as sn\n",
    "import matplotlib.pyplot as plt\n",
    "\n",
    "df_corr = df_num.corr()\n",
    "sn.heatmap(df_corr, annot=False)\n",
    "plt.show()"
   ]
  },
  {
   "cell_type": "code",
   "execution_count": 29,
   "metadata": {},
   "outputs": [],
   "source": [
    "# From the above, we can infer that there is a relatively higher coorelation between price and Engine as well as price and year"
   ]
  },
  {
   "cell_type": "code",
   "execution_count": 30,
   "metadata": {},
   "outputs": [
    {
     "data": {
      "text/plain": [
       "<AxesSubplot:xlabel='Engine_num', ylabel='Price'>"
      ]
     },
     "execution_count": 30,
     "metadata": {},
     "output_type": "execute_result"
    },
    {
     "data": {
      "image/png": "[encoded data removed]",
      "text/plain": [
       "<Figure size 432x288 with 1 Axes>"
      ]
     },
     "metadata": {
      "needs_background": "light"
     },
     "output_type": "display_data"
    }
   ],
   "source": [
    "sns.scatterplot(x='Engine_num',\n",
    "                y='Price', data=df_num)"
   ]
  },
  {
   "cell_type": "code",
   "execution_count": 31,
   "metadata": {},
   "outputs": [
    {
     "data": {
      "text/plain": [
       "<AxesSubplot:xlabel='Year_num', ylabel='Price'>"
      ]
     },
     "execution_count": 31,
     "metadata": {},
     "output_type": "execute_result"
    },
    {
     "data": {
      "image/png": "[encoded data removed]",
      "text/plain": [
       "<Figure size 432x288 with 1 Axes>"
      ]
     },
     "metadata": {
      "needs_background": "light"
     },
     "output_type": "display_data"
    }
   ],
   "source": [
    "sns.scatterplot(x='Year_num',\n",
    "                y='Price', data=df_num)"
   ]
  },
  {
   "cell_type": "code",
   "execution_count": 32,
   "metadata": {},
   "outputs": [
    {
     "data": {
      "text/plain": [
       "<AxesSubplot:xlabel='Mileage', ylabel='Price'>"
      ]
     },
     "execution_count": 32,
     "metadata": {},
     "output_type": "execute_result"
    },
    {
     "data": {
      "image/png": "[encoded data removed]",
      "text/plain": [
       "<Figure size 432x288 with 1 Axes>"
      ]
     },
     "metadata": {
      "needs_background": "light"
     },
     "output_type": "display_data"
    }
   ],
   "source": [
    "sns.scatterplot(x='Mileage',\n",
    "                y='Price', data=df_num)"
   ]
  },
  {
   "cell_type": "code",
   "execution_count": 33,
   "metadata": {},
   "outputs": [
    {
     "name": "stdout",
     "output_type": "stream",
     "text": [
      "(6356, 10) (2724, 10) (6356,) (2724,)\n"
     ]
    }
   ],
   "source": [
    "### 4. PREPARING DATA FOR MODELLING\n",
    "X = df_num.drop(columns=['Price'])\n",
    "y = df_num['Price']\n",
    "\n",
    "X_train, X_test, y_train, y_test = train_test_split(X, y , test_size=0.3, random_state=101)\n",
    "print(X_train.shape, X_test.shape, y_train.shape, y_test.shape)"
   ]
  },
  {
   "cell_type": "code",
   "execution_count": 34,
   "metadata": {},
   "outputs": [
    {
     "name": "stdout",
     "output_type": "stream",
     "text": [
      "mean_squared_error (with X_train):  172419093.44982356\n",
      "mean_squared_error (with X_test):  225475418.86972865\n",
      "mean_absolute_error (with X_train) :  6539.02009693728\n",
      "mean_absolute_error(with X_test):  6659.099366675247\n"
     ]
    }
   ],
   "source": [
    "### 5. MULTIPLE LINEAR REGRESSION\n",
    "\n",
    "# creating a regression model\n",
    "model = LinearRegression()\n",
    "  \n",
    "# fitting the model\n",
    "model.fit(X_train, y_train)\n",
    "  \n",
    "# making predictions\n",
    "y_pred_test = model.predict(X_test)\n",
    "y_pred_train = model.predict(X_train)\n",
    "  \n",
    "\n",
    "# model evaluation\n",
    "mse_train = mean_squared_error(y_train, y_pred_train)\n",
    "mse_test = mean_squared_error(y_test, y_pred_test)\n",
    "\n",
    "print('mean_squared_error (with X_train): ', mse_train)\n",
    "print('mean_squared_error (with X_test): ', mse_test)\n",
    "\n",
    "mae_train = mean_absolute_error(y_train, y_pred_train)\n",
    "mae_test = mean_absolute_error(y_test, y_pred_test)\n",
    "\n",
    "print('mean_absolute_error (with X_train) : ', mae_train)\n",
    "print('mean_absolute_error(with X_test): ', mae_test)"
   ]
  },
  {
   "cell_type": "code",
   "execution_count": 35,
   "metadata": {},
   "outputs": [
    {
     "name": "stdout",
     "output_type": "stream",
     "text": [
      "R-squared (with X_train): 0.31324423067914975\n",
      "R-squared (with X_test): 0.24772008867114603\n"
     ]
    }
   ],
   "source": [
    "r2_train = r2_score(y_train, y_pred_train)\n",
    "print('R-squared (with X_train): {}'.format(r2_train))\n",
    "\n",
    "r2_test = r2_score(y_test, y_pred_test)\n",
    "print('R-squared (with X_test): {}'.format(r2_test))\n",
    "\n",
    "# Based on the results, we can see that the r2 score is very low, hence the accuracy is pretty low. \n",
    "# The MSE for training data is lower than the MSE for test data, indicating overfitting"
   ]
  },
  {
   "cell_type": "code",
   "execution_count": 36,
   "metadata": {},
   "outputs": [
    {
     "name": "stdout",
     "output_type": "stream",
     "text": [
      "-1976.4070890033654\n",
      "[-5.82183937e+01  6.56308447e-02  1.15049551e+03 -1.44190231e-01\n",
      " -6.18503928e+02 -8.52775596e+01 -1.07275547e+02  4.34131467e+03\n",
      "  9.76053713e+02 -1.24164344e+03]\n"
     ]
    }
   ],
   "source": [
    "print(model.intercept_)\n",
    "print(model.coef_)"
   ]
  },
  {
   "cell_type": "code",
   "execution_count": 38,
   "metadata": {},
   "outputs": [],
   "source": [
    "from decimal import *\n",
    "degree = [1]\n",
    "\n",
    "train_MSE = ['%.2E' % Decimal(mse_train)]\n",
    "test_MSE = ['%.2E' % Decimal(mse_test)]\n",
    "\n",
    "train_r_sq = ['%.2E' % Decimal(r2_train)]\n",
    "test_r_sq = ['%.2E' % Decimal(r2_test)]"
   ]
  },
  {
   "cell_type": "code",
   "execution_count": 39,
   "metadata": {},
   "outputs": [],
   "source": [
    "# TODO - improve accuracy using standardization or normalization\n",
    "# apply k fold cross validation for analysis"
   ]
  },
  {
   "cell_type": "code",
   "execution_count": 40,
   "metadata": {},
   "outputs": [
    {
     "name": "stdout",
     "output_type": "stream",
     "text": [
      "degree: [1, 2, 3, 4, 5]\n",
      "train_MSE: ['1.72E+08', '1.34E+04', '1.20E+04', '1.31E+04', '1.89E+04']\n",
      "test_MSE: ['2.25E+08', '1.19E+04', '1.31E+04', '2.02E+04', '6.43E+04']\n",
      "train_r_sq: ['3.13E-01', '3.59E-01', '4.88E-01', '3.88E-01', '-2.73E-01']\n",
      "test_r_sq: ['2.48E-01', '3.95E-01', '2.61E-01', '-7.44E-01', '-1.67E+01']\n"
     ]
    }
   ],
   "source": [
    "### 5. POLYNOMIAL REGRESSION\n",
    "from sklearn.preprocessing import PolynomialFeatures\n",
    "\n",
    "degrees = [2,3,4,5]\n",
    "\n",
    "for i in range(len(degrees)):\n",
    "    d = degrees[i]\n",
    "    poly = PolynomialFeatures(degree= d, include_bias=False)\n",
    "    poly_features = poly.fit_transform(X)\n",
    "    X_train, X_test, y_train, y_test = train_test_split(poly_features, y, test_size=0.3, random_state=42)\n",
    "    poly_reg_model = LinearRegression()\n",
    "    poly_reg_model.fit(X_train, y_train)\n",
    "    \n",
    "    poly_reg_y_predicted_train = poly_reg_model.predict(X_train)\n",
    "    poly_reg_rmse_train = np.sqrt(mean_squared_error(y_train, poly_reg_y_predicted_train))\n",
    "    train_MSE.append('%.2E' % Decimal(poly_reg_rmse_train))\n",
    "    \n",
    "    poly_reg_y_predicted_test = poly_reg_model.predict(X_test)\n",
    "    poly_reg_rmse_test = np.sqrt(mean_squared_error(y_test, poly_reg_y_predicted_test))\n",
    "    test_MSE.append('%.2E' % Decimal(poly_reg_rmse_test))\n",
    "    \n",
    "    r2_train = r2_score(y_train, poly_reg_y_predicted_train)\n",
    "    train_r_sq.append('%.2E' % Decimal(r2_train))\n",
    "    \n",
    "    r2_test = r2_score(y_test, poly_reg_y_predicted_test)\n",
    "    test_r_sq.append('%.2E' % Decimal(r2_test))\n",
    "    \n",
    "    degree.append(d)\n",
    "\n",
    "print('degree: {}'.format(degree))\n",
    "print('train_MSE: {}'.format(train_MSE))\n",
    "print('test_MSE: {}'.format(test_MSE))\n",
    "print('train_r_sq: {}'.format(train_r_sq))\n",
    "print('test_r_sq: {}'.format(test_r_sq))\n",
    "      "
   ]
  },
  {
   "cell_type": "code",
   "execution_count": 41,
   "metadata": {},
   "outputs": [
    {
     "data": {
      "image/png": "[encoded data removed]",
      "text/plain": [
       "<Figure size 720x360 with 2 Axes>"
      ]
     },
     "metadata": {
      "needs_background": "light"
     },
     "output_type": "display_data"
    }
   ],
   "source": [
    "# plot lines\n",
    "f = plt.figure()\n",
    "f.set_figwidth(10)\n",
    "f.set_figheight(5)\n",
    "\n",
    "plt.subplot(1, 2, 1)\n",
    "plt.plot(degree, train_MSE, label = \"MSE using trainig data\")\n",
    "plt.plot(degree, test_MSE, label = \"MSE using test data\")\n",
    "plt.title(\"Mean Squared Error\")\n",
    "plt.legend(loc='best')\n",
    "\n",
    "plt.subplot(1, 2, 2)\n",
    "plt.plot(degree, train_r_sq, label = \"R-square using trainig data\")\n",
    "plt.plot(degree, test_r_sq, label = \"R-square using test data\")\n",
    "plt.title(\"R-Squared\")\n",
    "plt.legend(loc='best')\n",
    "\n",
    "plt.show()\n"
   ]
  },
  {
   "cell_type": "code",
   "execution_count": 42,
   "metadata": {},
   "outputs": [],
   "source": [
    "# From the above we can see that the model performs best on when polynomial degree is 3 however the accuracy is still pretty low"
   ]
  }
 ],
 "metadata": {
  "kernelspec": {
   "display_name": "Python 3",
   "language": "python",
   "name": "python3"
  },
  "language_info": {
   "codemirror_mode": {
    "name": "ipython",
    "version": 3
   },
   "file_extension": ".py",
   "mimetype": "text/x-python",
   "name": "python",
   "nbconvert_exporter": "python",
   "pygments_lexer": "ipython3",
   "version": "3.6.7"
  }
 },
 "nbformat": 4,
 "nbformat_minor": 4
}
